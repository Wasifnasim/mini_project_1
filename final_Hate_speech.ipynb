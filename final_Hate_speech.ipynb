{
  "nbformat": 4,
  "nbformat_minor": 0,
  "metadata": {
    "colab": {
      "provenance": [],
      "gpuType": "T4",
      "authorship_tag": "ABX9TyMN9FoYDs5sLMooV1faT6S5",
      "include_colab_link": true
    },
    "kernelspec": {
      "name": "python3",
      "display_name": "Python 3"
    },
    "language_info": {
      "name": "python"
    },
    "accelerator": "GPU"
  },
  "cells": [
    {
      "cell_type": "markdown",
      "metadata": {
        "id": "view-in-github",
        "colab_type": "text"
      },
      "source": [
        "<a href=\"https://colab.research.google.com/github/Wasifnasim/mini_project_1/blob/main/final_Hate_speech.ipynb\" target=\"_parent\"><img src=\"https://colab.research.google.com/assets/colab-badge.svg\" alt=\"Open In Colab\"/></a>"
      ]
    },
    {
      "cell_type": "code",
      "execution_count": null,
      "metadata": {
        "collapsed": true,
        "id": "uN8ACWN4AV7t"
      },
      "outputs": [],
      "source": [
        "!pip install transformers datasets evaluate accelerate torch scikit-learn pandas\n"
      ]
    },
    {
      "cell_type": "code",
      "source": [
        "from google.colab import files\n",
        "uploaded = files.upload()\n"
      ],
      "metadata": {
        "id": "ZiK59Xn1Aq_v"
      },
      "execution_count": null,
      "outputs": []
    },
    {
      "cell_type": "markdown",
      "source": [],
      "metadata": {
        "id": "0bcaEh0lkk3d"
      }
    },
    {
      "cell_type": "code",
      "source": [
        "import re, json, pandas as pd\n",
        "from sklearn.model_selection import train_test_split\n",
        "\n",
        "def clean_text(text):\n",
        "    text = str(text).lower()\n",
        "    text = re.sub(r'http\\S+|www\\.\\S+', '', text)\n",
        "    text = re.sub(r'@\\w+', '', text)\n",
        "    text = re.sub(r'#', '', text)\n",
        "    text = re.sub(r'[^a-z0-9\\s]', '', text)\n",
        "    text = re.sub(r'\\s+', ' ', text).strip()\n",
        "    return text\n",
        "\n",
        "df = pd.read_csv(\"twitter(1).csv\")\n",
        "df['text'] = df['tweet'].astype(str).apply(clean_text)\n",
        "\n",
        "# map class → labels\n",
        "label_map = {\"0\": \"Hate Speech\", \"1\": \"Offensive Language\", \"2\": \"No Hate and Offensive\"}\n",
        "df['label'] = df['class'].astype(int)\n",
        "\n",
        "with open(\"label_map.json\", \"w\") as f:\n",
        "    json.dump(label_map, f, indent=2)\n",
        "\n",
        "train_df, test_df = train_test_split(df[['text','label']], test_size=0.2, stratify=df['label'], random_state=42)\n",
        "train_df.to_csv(\"train_split.csv\", index=False)\n",
        "test_df.to_csv(\"test_split.csv\", index=False)\n",
        "\n",
        "print(\"Prepared data → train_split.csv, test_split.csv\")\n"
      ],
      "metadata": {
        "id": "obEfIvh2Ay8E"
      },
      "execution_count": null,
      "outputs": []
    },
    {
      "cell_type": "code",
      "source": [
        "import numpy as np\n",
        "import pandas as pd\n",
        "from datasets import Dataset\n",
        "from transformers import AutoTokenizer, AutoModelForSequenceClassification, TrainingArguments, Trainer\n",
        "import evaluate\n",
        "\n",
        "MODEL_NAME = \"distilbert-base-uncased\"\n",
        "MAX_LEN = 128\n",
        "BATCH_SIZE = 16\n",
        "EPOCHS = 3\n",
        "\n",
        "# Load label map\n",
        "import json\n",
        "with open(\"label_map.json\",\"r\") as f:\n",
        "    raw_map = json.load(f)\n",
        "id2label = {int(k): v for k,v in raw_map.items()}\n",
        "label2id = {v: int(k) for k,v in id2label.items()}\n",
        "\n",
        "# Load splits\n",
        "train_df = pd.read_csv(\"train_split.csv\")\n",
        "test_df  = pd.read_csv(\"test_split.csv\")\n",
        "\n",
        "train_ds = Dataset.from_pandas(train_df)\n",
        "test_ds  = Dataset.from_pandas(test_df)\n",
        "\n",
        "tokenizer = AutoTokenizer.from_pretrained(MODEL_NAME)\n",
        "\n",
        "def tokenize_fn(batch):\n",
        "    return tokenizer(batch[\"text\"], truncation=True, padding=\"max_length\", max_length=MAX_LEN)\n",
        "\n",
        "train_ds = train_ds.map(tokenize_fn, batched=True, remove_columns=[\"text\"])\n",
        "test_ds  = test_ds.map(tokenize_fn, batched=True, remove_columns=[\"text\"])\n",
        "\n",
        "train_ds = train_ds.rename_column(\"label\", \"labels\")\n",
        "test_ds  = test_ds.rename_column(\"label\", \"labels\")\n",
        "\n",
        "train_ds.set_format(\"torch\")\n",
        "test_ds.set_format(\"torch\")\n",
        "\n",
        "model = AutoModelForSequenceClassification.from_pretrained(\n",
        "    MODEL_NAME,\n",
        "    num_labels=len(id2label),\n",
        "    id2label=id2label,\n",
        "    label2id=label2id\n",
        ")\n",
        "\n",
        "accuracy = evaluate.load(\"accuracy\")\n",
        "f1 = evaluate.load(\"f1\")\n",
        "\n",
        "def compute_metrics(eval_pred):\n",
        "    logits, labels = eval_pred\n",
        "    preds = np.argmax(logits, axis=-1)\n",
        "    return {\n",
        "        \"accuracy\": accuracy.compute(predictions=preds, references=labels)[\"accuracy\"],\n",
        "        \"f1_macro\": f1.compute(predictions=preds, references=labels, average=\"macro\")[\"f1\"]\n",
        "    }\n",
        "\n",
        "training_args = TrainingArguments(\n",
        "    output_dir=\"./results\",\n",
        "    eval_strategy=\"epoch\",\n",
        "    save_strategy=\"epoch\",\n",
        "    learning_rate=2e-5,\n",
        "    per_device_train_batch_size=BATCH_SIZE,\n",
        "    per_device_eval_batch_size=BATCH_SIZE*2,\n",
        "    num_train_epochs=EPOCHS,\n",
        "    weight_decay=0.01,\n",
        "    load_best_model_at_end=True,\n",
        "    metric_for_best_model=\"f1_macro\",\n",
        "    logging_dir=\"./logs\"\n",
        ")\n",
        "\n",
        "trainer = Trainer(\n",
        "    model=model,\n",
        "    args=training_args,\n",
        "    train_dataset=train_ds,\n",
        "    eval_dataset=test_ds,\n",
        "    tokenizer=tokenizer,\n",
        "    compute_metrics=compute_metrics\n",
        ")\n",
        "\n",
        "trainer.train()\n",
        "trainer.evaluate()\n",
        "\n",
        "trainer.save_model(\"./saved_model\")\n",
        "tokenizer.save_pretrained(\"./saved_model\")\n",
        "\n",
        "print(\"✅ Model saved in ./saved_model\")\n"
      ],
      "metadata": {
        "id": "bZQ-ruA5A58-"
      },
      "execution_count": null,
      "outputs": []
    },
    {
      "cell_type": "code",
      "source": [
        "from transformers import pipeline\n",
        "pipe = pipeline(\"text-classification\", model=\"./saved_model\", tokenizer=\"./saved_model\", return_all_scores=True)\n",
        "\n",
        "examples = [\n",
        "    \"I want to kill them all\",\n",
        "    \"Have a nice day, friend\",\n",
        "    \"You idiot, shut up\"\n",
        "]\n",
        "\n",
        "for ex in examples:\n",
        "    preds = pipe(ex)[0]\n",
        "    print(ex)\n",
        "    for p in preds:\n",
        "        print(f\"  {p['label']}: {p['score']:.4f}\")\n",
        "    print()\n"
      ],
      "metadata": {
        "id": "CzJuulrrBI3g"
      },
      "execution_count": null,
      "outputs": []
    },
    {
      "cell_type": "code",
      "source": [
        "from google.colab import files\n",
        "!zip -r saved_model.zip saved_model\n",
        "files.download(\"saved_model.zip\")\n"
      ],
      "metadata": {
        "id": "P0IrzY_VEtco"
      },
      "execution_count": null,
      "outputs": []
    }
  ]
}